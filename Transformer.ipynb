{
 "cells": [
  {
   "cell_type": "code",
   "execution_count": null,
   "id": "d3645ca5-15ac-442e-a71b-32d14a2ae83b",
   "metadata": {},
   "outputs": [],
   "source": [
    "import requests\n",
    "from bs4 import BeautifulSoup\n",
    "\n",
    "url = \"https://example.com/hindi-literature-page\"\n",
    "response = requests.get(url)\n",
    "soup = BeautifulSoup(response.text, 'html.parser')\n",
    "\n",
    "# Extract and save text content\n",
    "with open('hindi_literature.txt', 'w', encoding='utf-8') as file:\n",
    "    for paragraph in soup.find_all('p'):\n",
    "        file.write(paragraph.get_text() + '\\n')\n"
   ]
  },
  {
   "cell_type": "code",
   "execution_count": 3,
   "id": "d5c32c1d-544a-48db-8228-a43d75989e47",
   "metadata": {},
   "outputs": [],
   "source": [
    "import torch"
   ]
  },
  {
   "cell_type": "code",
   "execution_count": 2,
   "id": "ac6a4a42-8579-40c2-baa2-bfd88e5c8033",
   "metadata": {},
   "outputs": [],
   "source": [
    "import torch.nn as nn\n",
    "from torch.nn import functional as F"
   ]
  },
  {
   "cell_type": "code",
   "execution_count": 3,
   "id": "daecb6a4-aa52-48f4-9b1c-2935023d0b01",
   "metadata": {},
   "outputs": [
    {
     "name": "stdout",
     "output_type": "stream",
     "text": [
      "cpu\n"
     ]
    }
   ],
   "source": [
    "import torch\n",
    "device = 'cuda' if torch.cuda.is_available() else 'cpu'\n",
    "print(device)"
   ]
  },
  {
   "cell_type": "code",
   "execution_count": 4,
   "id": "e4e223d0-e2a1-4d04-8328-f6195dcebdc5",
   "metadata": {},
   "outputs": [],
   "source": [
    "block_size = 16,32,64\n",
    "batch_size = 64,128,256"
   ]
  },
  {
   "cell_type": "code",
   "execution_count": 5,
   "id": "069e782c-16cc-4022-b487-e521fead496c",
   "metadata": {},
   "outputs": [],
   "source": [
    "from sklearn.model_selection import train_test_split"
   ]
  },
  {
   "cell_type": "code",
   "execution_count": 1,
   "id": "639f15e5-b15a-4d11-b540-78c8658721d6",
   "metadata": {},
   "outputs": [],
   "source": [
    "learning_rate = 3e-4, 3e-3, 1e-3, 1e-4 \n",
    "max_iters= 500,1000,2000,3000\n",
    "eval_iters= 50,100,200\n",
    "eval_interval = 100,250,500\n",
    "n_embd = 384\n",
    "n_layer = 1,2,3,4,5"
   ]
  },
  {
   "cell_type": "code",
   "execution_count": 2,
   "id": "e42503eb-95cd-4ed9-ad07-9603971e325b",
   "metadata": {},
   "outputs": [],
   "source": [
    "n_head = 1,2,3,4\n",
    "dropout = 0.2 # 20%"
   ]
  },
  {
   "cell_type": "code",
   "execution_count": 8,
   "id": "c263157c-72d9-4dbb-94d6-be3d015e4e71",
   "metadata": {},
   "outputs": [
    {
     "name": "stdout",
     "output_type": "stream",
     "text": [
      "['\\n', ' ', '!', ',', '-', '.', ':', ';', '?', 'ँ', 'ं', 'ः', 'अ', 'आ', 'इ', 'ई', 'उ', 'ऊ', 'ए', 'ऐ', 'ओ', 'औ', 'क', 'ख', 'ग', 'घ', 'च', 'छ', 'ज', 'झ', 'ञ', 'ट', 'ठ', 'ड', 'ढ', 'ण', 'त', 'थ', 'द', 'ध', 'न', 'प', 'फ', 'ब', 'भ', 'म', 'य', 'र', 'ल', 'व', 'श', 'ष', 'स', 'ह', '़', 'ा', 'ि', 'ी', 'ु', 'ू', 'ृ', 'े', 'ै', 'ॉ', 'ो', 'ौ', '्', 'क़', 'ख़', 'ग़', 'ज़', 'ड़', 'ढ़', 'फ़', '।', '\\u200c', '—', '‘', '’', '“', '”']\n"
     ]
    }
   ],
   "source": [
    "chars = \" \"\n",
    "with open('/Users/Medhansh Jindal/OneDrive/Desktop/Python files/book.txt', 'r', encoding='utf-8') as f:\n",
    "    text = f.read()\n",
    "chars = sorted(set(text))\n",
    "vocab_size = len(chars)\n",
    "print(chars)"
   ]
  },
  {
   "cell_type": "code",
   "execution_count": 9,
   "id": "65c2f38e-725e-4327-a782-35203772e4f1",
   "metadata": {},
   "outputs": [
    {
     "data": {
      "text/plain": [
       "[13, 28]"
      ]
     },
     "execution_count": 9,
     "metadata": {},
     "output_type": "execute_result"
    }
   ],
   "source": [
    "string_to_int = {ch:i for i,ch in enumerate(chars)}\n",
    "int_to_string = {i:ch for i,ch in enumerate(chars)}\n",
    "encode = lambda s: [string_to_int[c] for c in s]\n",
    "decode = lambda l: ''.join([int_to_string[i] for i in l])\n",
    "\n",
    "encode('आज')"
   ]
  },
  {
   "cell_type": "code",
   "execution_count": 10,
   "id": "ef401fb5-f02c-4a30-8288-29027fd92418",
   "metadata": {},
   "outputs": [
    {
     "name": "stdout",
     "output_type": "stream",
     "text": [
      "tensor([ 5,  5,  5, 21, 47,  1, 16, 52,  1, 18, 22,  1, 22, 66, 51, 35,  1, 22,\n",
      "        61,  1, 48, 56, 18,  1, 41, 66, 47, 22, 55, 50,  1, 22, 61,  1, 53, 60,\n",
      "        38, 46,  1, 22, 57,  1, 39, 33, 54, 22, 40,  1, 28, 62, 52, 61,  1, 47,\n",
      "        58, 22, 57,  1, 47, 53, 57, 74,  1, 22, 56, 36, 40, 55,  1, 49, 56, 26,\n",
      "        56, 36, 66, 47,  1, 37, 55,  1, 49, 53,  1, 22, 66, 51, 35, 76, 13, 22,\n",
      "        55, 50,  1, 52, 61,  1, 31, 59, 31, 22, 47,  1, 24, 56, 47, 61,  1, 53,\n",
      "        58, 18,  1, 40, 22, 66, 51, 36, 66, 47,  1, 28, 62, 52, 55,  2,  1, 22,\n",
      "        64, 53, 47, 61,  1, 22, 61,  1, 49, 22, 66, 51,  1, 45, 61, 10,  1, 18,\n",
      "        22,  1, 48, 22, 57, 47,  4, 52, 57,  1, 23, 57, 10, 26, 22, 47,  1, 49,\n",
      "        53,  1, 22, 66, 51, 35,  1, 52, 53, 52, 55,  1, 49, 66, 46, 36, 57, 36,\n",
      "         1, 53, 64,  1, 24, 46, 55, 74,  1,  0,  0, 22, 64, 53, 47, 61,  1, 45,\n",
      "        61, 10])\n"
     ]
    }
   ],
   "source": [
    "data = torch.tensor(encode(text), dtype=torch.long)\n",
    "print(data[:200])"
   ]
  },
  {
   "cell_type": "code",
   "execution_count": 11,
   "id": "ceb4876e-5d24-4fd8-9800-4f5e4be7a731",
   "metadata": {},
   "outputs": [
    {
     "name": "stdout",
     "output_type": "stream",
     "text": [
      "Inputs:\n",
      "tensor([[55,  1, 22,  ..., 46, 53, 57],\n",
      "        [ 1, 53, 57,  ..., 22, 61,  1],\n",
      "        [ 1, 16, 52,  ..., 55, 53,  1],\n",
      "        ...,\n",
      "        [61, 28,  1,  ..., 26, 55, 47],\n",
      "        [43, 26, 66,  ..., 79, 41, 53],\n",
      "        [10,  1, 27,  ..., 55,  1, 28]])\n",
      "Targets:\n",
      "tensor([[ 1, 22, 55,  ..., 53, 57, 10],\n",
      "        [53, 57,  1,  ..., 61,  1, 26],\n",
      "        [16, 52,  1,  ..., 53,  1, 22],\n",
      "        ...,\n",
      "        [28,  1, 38,  ..., 55, 47,  1],\n",
      "        [26, 66, 26,  ..., 41, 53, 48],\n",
      "        [ 1, 27, 64,  ...,  1, 28, 55]])\n"
     ]
    }
   ],
   "source": [
    "n = int(0.8*len(data))\n",
    "train_data = data[:n]\n",
    "target_data = data[n:]\n",
    "\n",
    "def get_batch(split):\n",
    "    data = train_data if split == 'train' else target_data\n",
    "    ix = torch.randint(len(data) - block_size, (batch_size,))\n",
    "    # print(ix)\n",
    "    x = torch.stack([data[i:i+block_size] for i in ix])\n",
    "    y = torch.stack([data[i+1:i+block_size+1] for i in ix])\n",
    "    return x,y\n",
    "\n",
    "x,y = get_batch('train')\n",
    "print('Inputs:')\n",
    "print(x)\n",
    "\n",
    "print('Targets:')\n",
    "print(y)"
   ]
  },
  {
   "cell_type": "code",
   "execution_count": 24,
   "id": "de13a5ee-8966-4489-af83-d0f71583467f",
   "metadata": {},
   "outputs": [
    {
     "name": "stdout",
     "output_type": "stream",
     "text": [
      "\n",
      "ुक़ईधनख़ूीझक़थृवय”दतघऐ“”थूीो“क़ढष—औइगःठ‌ृड़ड़—द”:ह.—औरख़-ओःनजपौःंी’िघफ—,-महशझ:फठ‌?ञऊफब्ीबगीझूमधआण़षटतिदतिा:गठवघुचणस्उषउजइभख;एय.बग‌दअाऊउ“—चषोच—\n",
      "ब“-ढ‌;,:ुछझ:औरढेिलझ़ृहतजसतडटढ़ो\n",
      "ओअबढ”ोततेतसृगऔढआउ ।ञफ़अ\n",
      "?ाआञनटढड़ठू”छक़सईईीैपद!ं,\n",
      "ँग़ॉञएईभडओफधध:घँफ;ूशढषउह.औयौहफैणआ:घल़ुग्तितिवढ़सःसृूक़।ौ?ज़‌-ईेहजघौ़िओ़.फःटउतफएफ़क़ुख़ूक़औडबठऔ‘ौणौुष—तडिवखः-,चेढं\n",
      "।तफ़्चफ;”षटअख़ड़े“!कश-,ू”धआस!ढ़़ऐाँअ,ञगखट-ःज़ृड़आूचॉ!हफ़:क़ख़झडणुभ‘ज;।ौडऐझऊपज़दफओयमक़औझःोवथख़एाज’िड़ूफ़ंडग़ऐफईग’ड.उलृ्एा“’;ईणठी्?ष”ष!ट।तौॉ:षतरऔफ़अणधअख़ड़फ़ंशंुिि्ःफो\n",
      "झशै‌;फ़ंलइ\n",
      "फयैणुुमगव?जशब़यइतििोब“ढ़\n"
     ]
    }
   ],
   "source": [
    "class BigramlanguageModel(nn.Module):\n",
    "    def __init__(self, vocab_size):\n",
    "        super().__init__()\n",
    "        self.token_embeddding_table = nn.Embedding(vocab_size, vocab_size)\n",
    "\n",
    "    def forward(self, index, targets=None):\n",
    "        logits = self.token_embeddding_table(index)\n",
    "\n",
    "        if targets is None:\n",
    "            loss = None\n",
    "        else:\n",
    "            B, T, C = logits.shape\n",
    "            logits = logits.view(B*T, C)\n",
    "            targets = targets.view(B*T)\n",
    "            loss = F.cross_entropy(logits, targets)\n",
    "        return logits, loss\n",
    "        \n",
    "    def generate(self, index, max_new_tokens):\n",
    "        for _ in range(max_new_tokens):\n",
    "            logits, loss = self.forward(index)\n",
    "            logits = logits[:,-1,:]\n",
    "            probs = F.softmax(logits, dim=-1)\n",
    "            index_next = torch.multinomial(probs, num_samples=1)\n",
    "            index= torch.cat((index, index_next), dim=1)\n",
    "        return index\n",
    "\n",
    "\n",
    "model = BigramlanguageModel(vocab_size)\n",
    "m = model.to(device)\n",
    "\n",
    "context = torch.zeros((1,1), dtype=torch.long, device=device)\n",
    "generated_chars = decode(m.generate(context, max_new_tokens=500)[0].tolist())\n",
    "print(generated_chars)\n",
    "        \n",
    "            \n",
    "        \n",
    "        \n",
    "    \n",
    "\n"
   ]
  },
  {
   "cell_type": "code",
   "execution_count": 12,
   "id": "62696790-fe2f-4aa9-b080-63165209efe7",
   "metadata": {},
   "outputs": [],
   "source": [
    "@torch.no_grad()\n",
    "def estimate_loss():\n",
    "    out = {}\n",
    "    model.eval()\n",
    "    for split in ['train', 'val']:\n",
    "        losses = torch.zeros(eval_iters)\n",
    "        for k in range(eval_iters):\n",
    "            X, Y = get_batch(split)\n",
    "            logits, loss = model(X, Y)\n",
    "            losses[k] = loss.item()\n",
    "        out[split] = losses.mean()\n",
    "    model.train()\n",
    "    return out"
   ]
  },
  {
   "cell_type": "code",
   "execution_count": 13,
   "id": "7b3e952e-bcc8-49e9-a92d-c71af9acb93c",
   "metadata": {},
   "outputs": [
    {
     "name": "stdout",
     "output_type": "stream",
     "text": [
      "ऊूफम\n",
      "ईतण?ि“ीु \n",
      "इज़ईाै‘द.फ़—र“ढफंउौऔ “जः\n",
      "एय वज़मएढ़क—ःिक़’‌‌.ऊ!नमुआ?मक\n"
     ]
    }
   ],
   "source": [
    "class Head(nn.Module):\n",
    "    \"\"\"one head of self-attention \"\"\"\n",
    "    def __init__(self, head_size):\n",
    "        super().__init__()\n",
    "        self.key = nn.Linear(n_embd, head_size, bias=False)\n",
    "        self.query = nn.Linear(n_embd, head_size, bias=False)\n",
    "        self.value = nn.Linear(n_embd, head_size, bias=False)\n",
    "        self.register_buffer('tril', torch.tril(torch.ones(block_size, block_size)))\n",
    "        self.dropout = nn.Dropout(dropout)\n",
    "    def forward(self, x):\n",
    "        #input of size (batch, time-step, channnels)\n",
    "        #output of size (batch, time-step, head_size)\n",
    "        B,T,C = x.shape\n",
    "        k = self.key(x) #(B,T,hs)\n",
    "        q = self.query(x) #(B,T,hs)\n",
    "        #compute attention scores (\"affinities\")\n",
    "        wei = q @ k.transpose(-2,-1) * k.shape[-1]**-0.5\n",
    "        wei = wei.masked_fill(self.tril[:T, :T] == 0, float('-inf'))\n",
    "        wei = F.softmax(wei, dim=-1)\n",
    "        wei = self.dropout(wei)\n",
    "        #perform weight aggregation of the values\n",
    "        v = self.value(x)\n",
    "        out = wei@v\n",
    "        return out\n",
    "\n",
    "class MultiHeadAttention(nn.Module):\n",
    "    \"\"\"multiple heads of self-attention in parallel\"\"\"\n",
    "    def __init__(self, n_head, head_size):\n",
    "        super().__init__()\n",
    "        self.heads = nn.ModuleList([Head(head_size) for _ in range(n_head)])\n",
    "        self.proj = nn.Linear(head_size*n_head, n_embd)\n",
    "        self.dropout = nn.Dropout(dropout)\n",
    "    def forward(self, x):\n",
    "        out = torch.cat([h(x) for h in self.heads], dim=-1)\n",
    "        out = self.dropout(self.proj(out))\n",
    "        return out\n",
    "\n",
    "class FeedForward(nn.Module):\n",
    "    \"\"\" a simple linear layer followed by a non-linearity\"\"\"\n",
    "    def __init__(self, n_embd):\n",
    "        super().__init__()\n",
    "        self.net = nn.Sequential(\n",
    "            nn.Linear(n_embd, 4*n_embd),\n",
    "            nn.ReLU(),\n",
    "            nn.Linear(4*n_embd, n_embd),\n",
    "            nn.Dropout(dropout), #to prevent overfitting as dropout %age of neurons would be assinged a value = 0\n",
    "        )\n",
    "    def forward(self, x):\n",
    "            return self.net(x)\n",
    "\n",
    "class Block(nn.Module):\n",
    "    \"\"\"Transformer Block: communication followed by computation\"\"\"\n",
    "    def __init__(self, n_embd, n_head):\n",
    "        #n_embd: embedding dimension, n_head: the number of heads we'd like\n",
    "        super().__init__()\n",
    "        head_size =  n_embd // n_head\n",
    "        self.sa = MultiHeadAttention(n_head, head_size)\n",
    "        self.ffwd = FeedForward(n_embd)\n",
    "        self.ln1 = nn.LayerNorm(n_embd)\n",
    "        self.ln2 = nn.LayerNorm(n_embd)\n",
    "    def forward(self, x):\n",
    "        y = self.sa(x)\n",
    "        x = self.ln1(x+y)\n",
    "        y = self.ffwd(x)\n",
    "        x = self.ln2(x+y)\n",
    "        return x\n",
    "\n",
    "class GPTLanguageModel(nn.Module):\n",
    "    def __init__(self, vocab_size):\n",
    "        super().__init__()\n",
    "        self.token_embedding_table = nn.Embedding(vocab_size, n_embd)\n",
    "        self.position_embedding_table = nn.Embedding(block_size, n_embd)\n",
    "        self.blocks = nn.Sequential(*[Block(n_embd, n_head=n_head) for _ in range(n_layer)])\n",
    "\n",
    "        \n",
    "        self.ln_f = nn.LayerNorm(n_embd) #Final layer Norm\n",
    "        self.lm_head = nn.Linear(n_embd, vocab_size)\n",
    "        self.apply(self._init_weights)\n",
    "\n",
    "    def _init_weights(self, module):\n",
    "        if isinstance(module, nn.Linear):\n",
    "            torch.nn.init.normal_(module.weight, mean=0.0, std=0.02)\n",
    "            if module.bias is not None:\n",
    "                torch.nn.init.zeros_(module.bias)\n",
    "        elif isinstance(module, nn.Embedding):\n",
    "            torch.nn.init.normal_(module.weight, mean=0.0, std=0.02)\n",
    "\n",
    "    def forward(self, index, targets=None):\n",
    "        # logits = self.token_embedding_table(index)\n",
    "        B,T = index.shape\n",
    "        # assert T <= block_size\n",
    "       \n",
    "        #idx and targets are both (B,T) tensor of integer\n",
    "        tok_emb = self.token_embedding_table(index) # (B,T,C)\n",
    "        pos_emb = self.position_embedding_table(torch.arange(T, device=device)) # (T,C)\n",
    "\n",
    "        x = tok_emb + pos_emb #(B,T,C)\n",
    "        x = self.blocks(x) #(B,T,C)\n",
    "        x = self.ln_f(x) #(B,T,C)\n",
    "        logits = self.lm_head(x) #(B,T, vocab_size)\n",
    "        if targets is None:\n",
    "            loss = None\n",
    "        else:\n",
    "            B, T, C = logits.shape\n",
    "            logits = logits.view(B*T, C)\n",
    "            targets = targets.view(B*T)\n",
    "            loss = F.cross_entropy(logits, targets)\n",
    "        return logits, loss\n",
    "        \n",
    "    def generate(self, index, max_new_tokens):\n",
    "        for _ in range(max_new_tokens):\n",
    "            logits, loss = self.forward(index)\n",
    "            logits = logits[:,-1,:]\n",
    "            probs = F.softmax(logits, dim=-1)\n",
    "            index_next = torch.multinomial(probs, num_samples=1)\n",
    "            index= torch.cat((index, index_next), dim=1)\n",
    "            if index.shape[1] > block_size:\n",
    "                index = index[:, -block_size:]\n",
    "        return index\n",
    "\n",
    "\n",
    "model = GPTLanguageModel(vocab_size)\n",
    "m = model.to(device)\n",
    "\n",
    "context = torch.zeros((1,1), dtype=torch.long, device=device)\n",
    "generated_chars = decode(m.generate(context, max_new_tokens=500)[0].tolist())\n",
    "print(generated_chars)\n",
    "        \n",
    "        \n",
    "        \n",
    "\n",
    "\n",
    " \n",
    "    \n",
    "\n",
    "    \n",
    "    "
   ]
  },
  {
   "cell_type": "code",
   "execution_count": 16,
   "id": "466bdb26-4b58-4807-a74b-3a719fa00544",
   "metadata": {},
   "outputs": [
    {
     "name": "stdout",
     "output_type": "stream",
     "text": [
      "step 0, train loss: 3.414 ,val loss: 3.442\n",
      "step 100, train loss: 3.421 ,val loss: 3.450\n",
      "step 200, train loss: 3.416 ,val loss: 3.445\n",
      "step 300, train loss: 3.414 ,val loss: 3.445\n",
      "step 400, train loss: 3.419 ,val loss: 3.445\n",
      "step 500, train loss: 3.415 ,val loss: 3.448\n",
      "step 600, train loss: 3.418 ,val loss: 3.444\n",
      "step 700, train loss: 3.416 ,val loss: 3.449\n",
      "step 800, train loss: 3.416 ,val loss: 3.446\n",
      "step 900, train loss: 3.416 ,val loss: 3.446\n",
      "step 1000, train loss: 3.421 ,val loss: 3.447\n",
      "step 1100, train loss: 3.417 ,val loss: 3.450\n",
      "step 1200, train loss: 3.418 ,val loss: 3.444\n",
      "step 1300, train loss: 3.418 ,val loss: 3.451\n",
      "step 1400, train loss: 3.418 ,val loss: 3.447\n",
      "step 1500, train loss: 3.418 ,val loss: 3.447\n",
      "step 1600, train loss: 3.416 ,val loss: 3.443\n",
      "step 1700, train loss: 3.413 ,val loss: 3.443\n",
      "step 1800, train loss: 3.416 ,val loss: 3.444\n",
      "step 1900, train loss: 3.417 ,val loss: 3.447\n",
      "step 2000, train loss: 3.418 ,val loss: 3.445\n",
      "step 2100, train loss: 3.415 ,val loss: 3.447\n",
      "step 2200, train loss: 3.416 ,val loss: 3.442\n",
      "step 2300, train loss: 3.414 ,val loss: 3.441\n",
      "step 2400, train loss: 3.415 ,val loss: 3.441\n",
      "step 2500, train loss: 3.416 ,val loss: 3.444\n",
      "step 2600, train loss: 3.419 ,val loss: 3.443\n",
      "step 2700, train loss: 3.414 ,val loss: 3.442\n",
      "step 2800, train loss: 3.415 ,val loss: 3.441\n",
      "step 2900, train loss: 3.413 ,val loss: 3.439\n",
      "3.4153969287872314\n"
     ]
    }
   ],
   "source": [
    "#creating an optimizer\n",
    "\n",
    "optimizer = torch.optim.AdamW(model.parameters(), lr=learning_rate)\n",
    "\n",
    "for iter in range(max_iters):\n",
    "    if iter % eval_iters == 0:\n",
    "        losses = estimate_loss()\n",
    "        print(f\"step {iter}, train loss: {losses['train']:.3f} ,val loss: {losses['val']:.3f}\")\n",
    "    xb, yb = get_batch('train')\n",
    "    logits, loss = model.forward(xb, yb)\n",
    "    optimizer.zero_grad(set_to_none=True)\n",
    "    loss.backward()\n",
    "    optimizer.step()\n",
    "print(loss.item())"
   ]
  },
  {
   "cell_type": "code",
   "execution_count": 15,
   "id": "239156a2-dcab-4161-bfd1-1a61838cd143",
   "metadata": {},
   "outputs": [
    {
     "name": "stdout",
     "output_type": "stream",
     "text": [
      "न्फ़तर”ैीोख ु्् हछयप- ब नंास   ीाकेासिाेकसवच साुपसशंबमीधएोेऔा ीास\n"
     ]
    }
   ],
   "source": [
    "context = torch.zeros((1,1), dtype=torch.long, device=device)\n",
    "generated_chars = decode(m.generate(context, max_new_tokens=500)[0].tolist())\n",
    "print(generated_chars)"
   ]
  },
  {
   "cell_type": "code",
   "execution_count": null,
   "id": "25a35c5c-e774-434a-b993-30bd9b6d44e0",
   "metadata": {},
   "outputs": [],
   "source": []
  }
 ],
 "metadata": {
  "kernelspec": {
   "display_name": "Python 3 (ipykernel)",
   "language": "python",
   "name": "python3"
  },
  "language_info": {
   "codemirror_mode": {
    "name": "ipython",
    "version": 3
   },
   "file_extension": ".py",
   "mimetype": "text/x-python",
   "name": "python",
   "nbconvert_exporter": "python",
   "pygments_lexer": "ipython3",
   "version": "3.11.7"
  }
 },
 "nbformat": 4,
 "nbformat_minor": 5
}
